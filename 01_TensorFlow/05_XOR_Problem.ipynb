{
 "cells": [
  {
   "cell_type": "markdown",
   "id": "ca83625b",
   "metadata": {},
   "source": [
    "### XOR Problem"
   ]
  },
  {
   "cell_type": "code",
   "execution_count": 1,
   "id": "c6550de0",
   "metadata": {},
   "outputs": [],
   "source": [
    "import tensorflow as tf\n",
    "import numpy as np\n",
    "tf.random.set_seed(5)"
   ]
  },
  {
   "cell_type": "code",
   "execution_count": 2,
   "id": "3d174ac9",
   "metadata": {},
   "outputs": [
    {
     "name": "stdout",
     "output_type": "stream",
     "text": [
      "(4, 2) (4, 1)\n"
     ]
    }
   ],
   "source": [
    "# 학습 데이터\n",
    "\n",
    "x_data = [[0, 0],\n",
    "          [0, 1],\n",
    "          [1, 0],\n",
    "          [1, 1]]\n",
    "y_data = [[0],\n",
    "          [1],\n",
    "          [1],\n",
    "          [0]]\n",
    "\n",
    "x_train = np.array(x_data,dtype=np.float32)\n",
    "y_train = np.array(y_data,dtype=np.float32)\n",
    "print(x_train.shape, y_train.shape)"
   ]
  },
  {
   "cell_type": "code",
   "execution_count": 3,
   "id": "4baff8cd",
   "metadata": {},
   "outputs": [
    {
     "name": "stdout",
     "output_type": "stream",
     "text": [
      "Metal device set to: Apple M2\n"
     ]
    },
    {
     "name": "stderr",
     "output_type": "stream",
     "text": [
      "2023-07-13 00:40:53.801015: I tensorflow/core/common_runtime/pluggable_device/pluggable_device_factory.cc:305] Could not identify NUMA node of platform GPU ID 0, defaulting to 0. Your kernel may not have been built with NUMA support.\n",
      "2023-07-13 00:40:53.801092: I tensorflow/core/common_runtime/pluggable_device/pluggable_device_factory.cc:271] Created TensorFlow device (/job:localhost/replica:0/task:0/device:GPU:0 with 0 MB memory) -> physical PluggableDevice (device: 0, name: METAL, pci bus id: <undefined>)\n"
     ]
    }
   ],
   "source": [
    "# Layer 1: 은닉층(Hidden Layer)\n",
    "\n",
    "# (4,2) * (2,2) = (4,2)\n",
    "W1 = tf.Variable(tf.random.normal([2, 2]), name = 'weight1')\n",
    "b1 = tf.Variable(tf.random.normal([2]), name = 'bias1')\n",
    "\n",
    "def layer1(X):\n",
    "    return tf.sigmoid(tf.matmul(X,W1) + b1)  "
   ]
  },
  {
   "cell_type": "code",
   "execution_count": 4,
   "id": "7def674c",
   "metadata": {},
   "outputs": [],
   "source": [
    "# Layer 2: 출력층(Output Layer)\n",
    "\n",
    "# (4,2) * (2,1) = (4,1)\n",
    "W2 = tf.Variable(tf.random.normal([2, 1]), name = 'weight2')\n",
    "b2 = tf.Variable(tf.random.normal([1]), name = 'bias2')"
   ]
  },
  {
   "cell_type": "code",
   "execution_count": 5,
   "id": "5f7f84ec",
   "metadata": {},
   "outputs": [],
   "source": [
    "# 예측 함수\n",
    "\n",
    "def hypothesis(X):\n",
    "    return tf.sigmoid(tf.matmul(layer1(X), W2) + b2)"
   ]
  },
  {
   "cell_type": "code",
   "execution_count": 6,
   "id": "b0987f3c",
   "metadata": {},
   "outputs": [],
   "source": [
    "# 비용 함수\n",
    "\n",
    "def cost_func():\n",
    "    cost = -tf.reduce_mean(y_train*tf.math.log(hypothesis(x_train)) +\n",
    "                          (1 - y_train)*tf.math.log(1 - hypothesis(x_train)))\n",
    "    return cost"
   ]
  },
  {
   "cell_type": "code",
   "execution_count": 7,
   "id": "28ca62a3",
   "metadata": {},
   "outputs": [],
   "source": [
    "# 경사 하강법\n",
    "\n",
    "optimizer = tf.keras.optimizers.Adam(learning_rate = 0.01)"
   ]
  },
  {
   "cell_type": "code",
   "execution_count": 8,
   "id": "8ebfe0f1",
   "metadata": {},
   "outputs": [
    {
     "name": "stdout",
     "output_type": "stream",
     "text": [
      "***** Start Learning!!\n",
      "0000 cost:[ 0.70409703 ]\n",
      "1000 cost:[ 0.025501736 ]\n",
      "2000 cost:[ 0.0068961554 ]\n",
      "3000 cost:[ 0.0029871408 ]\n",
      "4000 cost:[ 0.0015255288 ]\n",
      "5000 cost:[ 0.00084185496 ]\n",
      "6000 cost:[ 0.0004841077 ]\n",
      "7000 cost:[ 0.0002849362 ]\n",
      "8000 cost:[ 0.000170007 ]\n",
      "9000 cost:[ 0.000102227226 ]\n",
      "10000 cost:[ 6.1767234e-05 ]\n",
      "***** Learning Finished!!\n"
     ]
    }
   ],
   "source": [
    "# 학습\n",
    "\n",
    "print('***** Start Learning!!')\n",
    "for step in range(10001):\n",
    "    optimizer.minimize(cost_func, var_list = [W1, b1, W2, b2])\n",
    "    if step % 1000 == 0:\n",
    "        print('%04d'%step, 'cost:[', cost_func().numpy(), ']')\n",
    "print('***** Learning Finished!!') "
   ]
  },
  {
   "cell_type": "code",
   "execution_count": 9,
   "id": "a75b3560",
   "metadata": {},
   "outputs": [
    {
     "name": "stdout",
     "output_type": "stream",
     "text": [
      "Weight1: [[-8.268194 -9.911603]\n",
      " [-8.246879 -9.754799]]\n",
      "Bias1: [12.438094  4.613185]\n",
      "Weight2: [[ 20.246387]\n",
      " [-19.894123]]\n",
      "Bias2: [-10.0956745]\n"
     ]
    }
   ],
   "source": [
    "# Weight & Bias\n",
    "\n",
    "print('Weight1:', W1.numpy())\n",
    "print('Bias1:', b1.numpy())\n",
    "print('Weight2:', W2.numpy())\n",
    "print('Bias2:', b2.numpy())"
   ]
  },
  {
   "cell_type": "code",
   "execution_count": 10,
   "id": "4bdc754c",
   "metadata": {},
   "outputs": [],
   "source": [
    "# 학습 데이터를 그대로 검증 데이터로 사용하여 예측한 경우\n",
    "\n",
    "x_test = x_train\n",
    "y_test = y_train"
   ]
  },
  {
   "cell_type": "code",
   "execution_count": 11,
   "id": "b00078d1",
   "metadata": {},
   "outputs": [
    {
     "name": "stdout",
     "output_type": "stream",
     "text": [
      "tf.Tensor(\n",
      "[[0.]\n",
      " [1.]\n",
      " [1.]\n",
      " [0.]], shape=(4, 1), dtype=float32)\n"
     ]
    }
   ],
   "source": [
    "# 예측\n",
    "\n",
    "def predict(X):\n",
    "    return tf.cast(hypothesis(X) > 0.5, dtype = tf.float32)\n",
    "preds = predict(x_test)   \n",
    "print(preds)"
   ]
  },
  {
   "cell_type": "code",
   "execution_count": 12,
   "id": "c280bc43",
   "metadata": {},
   "outputs": [
    {
     "name": "stdout",
     "output_type": "stream",
     "text": [
      "Accuracy: 1.0\n",
      "Hypothesis:\n",
      " [[7.1333248e-05]\n",
      " [9.9994075e-01]\n",
      " [9.9994135e-01]\n",
      " [5.7823661e-05]]\n",
      "Predict:\n",
      " [[0.]\n",
      " [1.]\n",
      " [1.]\n",
      " [0.]]\n"
     ]
    }
   ],
   "source": [
    "# 정확도\n",
    "\n",
    "accuracy = tf.reduce_mean(tf.cast(tf.equal(preds,y_test), dtype = tf.float32))\n",
    "print('Accuracy:', accuracy.numpy())\n",
    "print('Hypothesis:\\n', hypothesis(x_test).numpy())\n",
    "print('Predict:\\n', preds.numpy())"
   ]
  }
 ],
 "metadata": {
  "kernelspec": {
   "display_name": "Python 3 (ipykernel)",
   "language": "python",
   "name": "python3"
  },
  "language_info": {
   "codemirror_mode": {
    "name": "ipython",
    "version": 3
   },
   "file_extension": ".py",
   "mimetype": "text/x-python",
   "name": "python",
   "nbconvert_exporter": "python",
   "pygments_lexer": "ipython3",
   "version": "3.9.16"
  }
 },
 "nbformat": 4,
 "nbformat_minor": 5
}
