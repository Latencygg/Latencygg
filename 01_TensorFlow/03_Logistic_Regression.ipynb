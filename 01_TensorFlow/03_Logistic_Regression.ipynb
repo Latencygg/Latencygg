{
 "cells": [
  {
   "cell_type": "markdown",
   "id": "c0dacb9b",
   "metadata": {},
   "source": [
    "### Logistic Regression"
   ]
  },
  {
   "cell_type": "code",
   "execution_count": 1,
   "id": "8f13cca7",
   "metadata": {},
   "outputs": [],
   "source": [
    "import tensorflow as tf\n",
    "import numpy as np\n",
    "import math\n",
    "import matplotlib.pyplot as plt\n",
    "tf.random.set_seed(5)"
   ]
  },
  {
   "cell_type": "code",
   "execution_count": 2,
   "id": "357f9469",
   "metadata": {},
   "outputs": [
    {
     "data": {
      "image/png": "[encoded data removed]",
      "text/plain": [
       "<Figure size 640x480 with 1 Axes>"
      ]
     },
     "metadata": {},
     "output_type": "display_data"
    }
   ],
   "source": [
    "# 시각화\n",
    "\n",
    "def sigmoid(z):\n",
    "    return 1./(1. + math.e**-z)\n",
    "\n",
    "xx,yy=[],[]\n",
    "for k in range(-100,101):\n",
    "    n = sigmoid(k/10)\n",
    "    \n",
    "    xx.append(k/10)\n",
    "    yy.append(n)\n",
    "\n",
    "plt.plot(xx,yy,'ro') \n",
    "plt.grid()"
   ]
  },
  {
   "cell_type": "code",
   "execution_count": 3,
   "id": "5c6c33fa",
   "metadata": {},
   "outputs": [],
   "source": [
    "# 학습 데이터\n",
    "\n",
    "x_data = [[1,2],\n",
    "          [2,3],\n",
    "          [3,1],\n",
    "          [4,3],\n",
    "          [5,3],\n",
    "          [6,2]]\n",
    "y_data = [[0],\n",
    "          [0],\n",
    "          [0],\n",
    "          [1],\n",
    "          [1],\n",
    "          [1]]\n",
    "\n",
    "x_train = np.array(x_data,dtype=np.float32)\n",
    "y_train = np.array(y_data,dtype=np.float32)"
   ]
  },
  {
   "cell_type": "code",
   "execution_count": 4,
   "id": "6e268d6b",
   "metadata": {},
   "outputs": [
    {
     "name": "stdout",
     "output_type": "stream",
     "text": [
      "Metal device set to: Apple M2\n",
      "<tf.Variable 'weight:0' shape=(2, 1) dtype=float32, numpy=\n",
      "array([[-0.18030666],\n",
      "       [-0.95028627]], dtype=float32)>\n",
      "<tf.Variable 'bias:0' shape=(1,) dtype=float32, numpy=array([0.22652863], dtype=float32)>\n"
     ]
    },
    {
     "name": "stderr",
     "output_type": "stream",
     "text": [
      "2023-07-13 00:20:30.776375: I tensorflow/core/common_runtime/pluggable_device/pluggable_device_factory.cc:305] Could not identify NUMA node of platform GPU ID 0, defaulting to 0. Your kernel may not have been built with NUMA support.\n",
      "2023-07-13 00:20:30.776464: I tensorflow/core/common_runtime/pluggable_device/pluggable_device_factory.cc:271] Created TensorFlow device (/job:localhost/replica:0/task:0/device:GPU:0 with 0 MB memory) -> physical PluggableDevice (device: 0, name: METAL, pci bus id: <undefined>)\n"
     ]
    }
   ],
   "source": [
    "# 변수 초기화\n",
    "\n",
    "W = tf.Variable(tf.random.normal([2, 1]), name = 'weight')\n",
    "b = tf.Variable(tf.random.normal([1]), name = 'bias')\n",
    "print(W)\n",
    "print(b)"
   ]
  },
  {
   "cell_type": "code",
   "execution_count": 5,
   "id": "c1105037",
   "metadata": {},
   "outputs": [],
   "source": [
    "# 예측 함수\n",
    "\n",
    "def hypothesis(X):\n",
    "    return tf.sigmoid(tf.matmul(X, W) + b)"
   ]
  },
  {
   "cell_type": "code",
   "execution_count": 6,
   "id": "478214df",
   "metadata": {},
   "outputs": [],
   "source": [
    "# 비용 함수\n",
    "\n",
    "def cost_func():\n",
    "    cost = -tf.reduce_mean(y_train*tf.math.log(hypothesis(x_train)) +\n",
    "                          (1 - y_train)*tf.math.log(1 - hypothesis(x_train)))\n",
    "    return cost"
   ]
  },
  {
   "cell_type": "code",
   "execution_count": 7,
   "id": "10a7f2a2",
   "metadata": {},
   "outputs": [],
   "source": [
    "# 경사 하강법\n",
    "\n",
    "optimizer = tf.keras.optimizers.Adam(learning_rate = 0.01)"
   ]
  },
  {
   "cell_type": "code",
   "execution_count": 8,
   "id": "cd133361",
   "metadata": {},
   "outputs": [
    {
     "name": "stdout",
     "output_type": "stream",
     "text": [
      "***** Start Learning!!\n",
      "0000 cost:[ 1.661137 ]  W: [[-0.17030667]\n",
      " [-0.9402863 ]]  b: [0.23652855]\n",
      "1000 cost:[ 0.17934625 ]  W: [[1.3178087 ]\n",
      " [0.19723618]]  b: [-4.7614326]\n",
      "2000 cost:[ 0.0725333 ]  W: [[2.0121028 ]\n",
      " [0.84058493]]  b: [-8.711955]\n",
      "3000 cost:[ 0.037006132 ]  W: [[2.6189141]\n",
      " [1.2299303]]  b: [-11.698349]\n",
      "4000 cost:[ 0.020763224 ]  W: [[3.1709251]\n",
      " [1.5396556]]  b: [-14.285831]\n",
      "5000 cost:[ 0.01218494 ]  W: [[3.6928   ]\n",
      " [1.8153362]]  b: [-16.68056]\n",
      "6000 cost:[ 0.007318981 ]  W: [[4.197649 ]\n",
      " [2.0743666]]  b: [-18.973692]\n",
      "7000 cost:[ 0.0044522695 ]  W: [[4.6926713]\n",
      " [2.3246496]]  b: [-21.210665]\n",
      "8000 cost:[ 0.0027277253 ]  W: [[5.1819453]\n",
      " [2.5701613]]  b: [-23.415747]\n",
      "9000 cost:[ 0.0016780437 ]  W: [[5.667814]\n",
      " [2.812966]]  b: [-25.602295]\n",
      "10000 cost:[ 0.001034755 ]  W: [[6.1516356]\n",
      " [3.0542414]]  b: [-27.777973]\n",
      "***** Learning Finished!!\n"
     ]
    }
   ],
   "source": [
    "# 학습\n",
    "\n",
    "print('***** Start Learning!!')\n",
    "for step in range(10001):\n",
    "    optimizer.minimize(cost_func, var_list=[W, b])\n",
    "    if step % 1000 == 0:\n",
    "        print('%04d'%step, 'cost:[', cost_func().numpy(), ']',\n",
    "             ' W:', W.numpy(), ' b:', b.numpy())\n",
    "print('***** Learning Finished!!')"
   ]
  },
  {
   "cell_type": "code",
   "execution_count": 9,
   "id": "928a0d81",
   "metadata": {},
   "outputs": [
    {
     "name": "stdout",
     "output_type": "stream",
     "text": [
      "Weight: [[6.1516356]\n",
      " [3.0542414]]\n",
      "Bias: [-27.777973]\n"
     ]
    }
   ],
   "source": [
    "# Weight & Bias\n",
    "\n",
    "print('Weight:', W.numpy())\n",
    "print('Bias:', b.numpy())"
   ]
  },
  {
   "cell_type": "code",
   "execution_count": 10,
   "id": "bc7dff3d",
   "metadata": {},
   "outputs": [],
   "source": [
    "# 평가\n",
    "\n",
    "def predict(X):\n",
    "    return tf.cast(hypothesis(X) > 0.5 , dtype = tf.float32)"
   ]
  },
  {
   "cell_type": "code",
   "execution_count": 11,
   "id": "9198abbf",
   "metadata": {},
   "outputs": [],
   "source": [
    "# 학습 데이터를 그대로 검증 데이터로 사용하여 예측한 경우\n",
    "\n",
    "x_test = x_train\n",
    "y_test = y_train"
   ]
  },
  {
   "cell_type": "code",
   "execution_count": 12,
   "id": "b380b1ad",
   "metadata": {},
   "outputs": [
    {
     "name": "stdout",
     "output_type": "stream",
     "text": [
      "tf.Tensor(\n",
      "[[0.]\n",
      " [0.]\n",
      " [0.]\n",
      " [1.]\n",
      " [1.]\n",
      " [1.]], shape=(6, 1), dtype=float32)\n"
     ]
    }
   ],
   "source": [
    "# 예측\n",
    "\n",
    "preds = predict(x_test)   \n",
    "print(preds)"
   ]
  },
  {
   "cell_type": "code",
   "execution_count": 13,
   "id": "bfa330e0",
   "metadata": {},
   "outputs": [
    {
     "name": "stdout",
     "output_type": "stream",
     "text": [
      "Accuracy: 1.0\n",
      "Hypothesis:\n",
      " [[1.8225575e-07]\n",
      " [1.8111556e-03]\n",
      " [1.8908702e-03]\n",
      " [9.9750584e-01]\n",
      " [9.9999464e-01]\n",
      " [9.9999976e-01]]\n",
      "Predict:\n",
      " [[0.]\n",
      " [0.]\n",
      " [0.]\n",
      " [1.]\n",
      " [1.]\n",
      " [1.]]\n"
     ]
    }
   ],
   "source": [
    "# 정확도\n",
    "\n",
    "accuracy = tf.reduce_mean(tf.cast(tf.equal(preds, y_test), dtype = tf.float32))\n",
    "print('Accuracy:', accuracy.numpy())\n",
    "print('Hypothesis:\\n', hypothesis(x_test).numpy())\n",
    "print('Predict:\\n', preds.numpy())"
   ]
  }
 ],
 "metadata": {
  "kernelspec": {
   "display_name": "Python 3 (ipykernel)",
   "language": "python",
   "name": "python3"
  },
  "language_info": {
   "codemirror_mode": {
    "name": "ipython",
    "version": 3
   },
   "file_extension": ".py",
   "mimetype": "text/x-python",
   "name": "python",
   "nbconvert_exporter": "python",
   "pygments_lexer": "ipython3",
   "version": "3.9.16"
  }
 },
 "nbformat": 4,
 "nbformat_minor": 5
}
