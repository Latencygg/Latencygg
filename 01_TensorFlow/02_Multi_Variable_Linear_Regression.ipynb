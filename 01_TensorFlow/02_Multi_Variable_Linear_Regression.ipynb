{
 "cells": [
  {
   "cell_type": "markdown",
   "id": "90b09f06",
   "metadata": {},
   "source": [
    "### Multi Variable Linear Regression"
   ]
  },
  {
   "cell_type": "code",
   "execution_count": 1,
   "id": "fbee03dc",
   "metadata": {},
   "outputs": [],
   "source": [
    "import tensorflow as tf\n",
    "import numpy as np\n",
    "import matplotlib.pyplot as plt \n",
    "tf.random.set_seed(5)"
   ]
  },
  {
   "cell_type": "code",
   "execution_count": 2,
   "id": "4214a04f",
   "metadata": {},
   "outputs": [
    {
     "data": {
      "text/plain": [
       "((5, 3), (5, 1))"
      ]
     },
     "execution_count": 2,
     "metadata": {},
     "output_type": "execute_result"
    }
   ],
   "source": [
    "# 학습 데이터\n",
    "\n",
    "x_data = [[73., 80., 75.],\n",
    "          [93., 88., 93.],\n",
    "          [89., 91., 90.],\n",
    "          [96., 98., 100.],\n",
    "          [73., 66., 70.]]\n",
    "y_data = [[152.],\n",
    "          [185.],\n",
    "          [180.],\n",
    "          [196.],\n",
    "          [142.]]\n",
    "\n",
    "x_train = np.array(x_data, dtype = np.float32)\n",
    "y_train = np.array(y_data, dtype = np.float32)\n",
    "x_train.shape, y_train.shape"
   ]
  },
  {
   "cell_type": "code",
   "execution_count": 3,
   "id": "b1574773",
   "metadata": {},
   "outputs": [
    {
     "name": "stdout",
     "output_type": "stream",
     "text": [
      "Metal device set to: Apple M2\n",
      "<tf.Variable 'weight:0' shape=(3, 1) dtype=float32, numpy=\n",
      "array([[-0.18030666],\n",
      "       [-0.95028627],\n",
      "       [-0.03964049]], dtype=float32)>\n",
      "<tf.Variable 'bias:0' shape=(1,) dtype=float32, numpy=array([0.22652863], dtype=float32)>\n"
     ]
    },
    {
     "name": "stderr",
     "output_type": "stream",
     "text": [
      "2023-07-12 23:54:33.499565: I tensorflow/core/common_runtime/pluggable_device/pluggable_device_factory.cc:305] Could not identify NUMA node of platform GPU ID 0, defaulting to 0. Your kernel may not have been built with NUMA support.\n",
      "2023-07-12 23:54:33.499650: I tensorflow/core/common_runtime/pluggable_device/pluggable_device_factory.cc:271] Created TensorFlow device (/job:localhost/replica:0/task:0/device:GPU:0 with 0 MB memory) -> physical PluggableDevice (device: 0, name: METAL, pci bus id: <undefined>)\n"
     ]
    }
   ],
   "source": [
    "# 변수 초기화\n",
    "\n",
    "# 행렬의 내적 곱셈 공식\n",
    "#    X   *    W   =    Y\n",
    "# (m, n) * (n, l) = (m, l)\n",
    "\n",
    "# x_train.shape: (5, 3)\n",
    "# y_train.shape: (5, 1) \n",
    "# (5, 3) * (Weight) = (5, 1)\n",
    "# Weight: (3, 1)\n",
    "\n",
    "W = tf.Variable(tf.random.normal([3, 1]), name = 'weight')\n",
    "b = tf.Variable(tf.random.normal([1]), name = 'bias')\n",
    "print(W)\n",
    "print(b)"
   ]
  },
  {
   "cell_type": "code",
   "execution_count": 4,
   "id": "ba84fba5",
   "metadata": {},
   "outputs": [],
   "source": [
    "# 예측 함수\n",
    "\n",
    "def hypothesis(X):\n",
    "    return tf.matmul(X, W) + b"
   ]
  },
  {
   "cell_type": "code",
   "execution_count": 5,
   "id": "8b4ae999",
   "metadata": {},
   "outputs": [],
   "source": [
    "# 비용 함수\n",
    "\n",
    "def cost_func():\n",
    "    cost = tf.reduce_mean(tf.square(hypothesis(x_train) - y_train))\n",
    "    return cost"
   ]
  },
  {
   "cell_type": "code",
   "execution_count": 6,
   "id": "9cfce46f",
   "metadata": {},
   "outputs": [],
   "source": [
    "# 경사 하강법\n",
    "\n",
    "optimizer = tf.keras.optimizers.Adam(learning_rate = 0.01)"
   ]
  },
  {
   "cell_type": "code",
   "execution_count": 7,
   "id": "e2aeeebc",
   "metadata": {},
   "outputs": [
    {
     "name": "stdout",
     "output_type": "stream",
     "text": [
      "***** Start Learning!!\n",
      "0000 cost:[ 72495.52 ]  W: [[-0.17030665]\n",
      " [-0.9402863 ]\n",
      " [-0.02964049]]  b: [0.23652864]\n",
      "1000 cost:[ 1.7471641 ]  W: [[0.87002134]\n",
      " [0.10899278]\n",
      " [1.0123485 ]]  b: [1.2881386]\n",
      "2000 cost:[ 1.6145171 ]  W: [[0.86157227]\n",
      " [0.12187749]\n",
      " [1.0077555 ]]  b: [1.3073541]\n",
      "3000 cost:[ 1.4080067 ]  W: [[0.8476371 ]\n",
      " [0.14340442]\n",
      " [0.9998729 ]]  b: [1.3420998]\n",
      "4000 cost:[ 1.1331476 ]  W: [[0.8272388 ]\n",
      " [0.17569624]\n",
      " [0.9874639 ]]  b: [1.4016056]\n",
      "5000 cost:[ 0.8249077 ]  W: [[0.80081177]\n",
      " [0.21960354]\n",
      " [0.9690792 ]]  b: [1.5015125]\n",
      "6000 cost:[ 0.5508687 ]  W: [[0.77249765]\n",
      " [0.2718614 ]\n",
      " [0.943571  ]]  b: [1.6660228]\n",
      "7000 cost:[ 0.36641985 ]  W: [[0.7516169 ]\n",
      " [0.32301912]\n",
      " [0.91069615]]  b: [1.9266485]\n",
      "8000 cost:[ 0.25736275 ]  W: [[0.74861366]\n",
      " [0.36159667]\n",
      " [0.87116635]]  b: [2.30957]\n",
      "9000 cost:[ 0.17993008 ]  W: [[0.76453084]\n",
      " [0.38512608]\n",
      " [0.82649434]]  b: [2.8055224]\n",
      "10000 cost:[ 0.12882057 ]  W: [[0.78812146]\n",
      " [0.40087056]\n",
      " [0.7815102 ]]  b: [3.337571]\n",
      "***** Learning Finished!!\n"
     ]
    }
   ],
   "source": [
    "# 학습\n",
    "\n",
    "print('***** Start Learning!!')\n",
    "for step in range(10001):\n",
    "    optimizer.minimize(cost_func, var_list=[W, b])\n",
    "    if step % 1000 == 0:\n",
    "        print('%04d'%step, 'cost:[', cost_func().numpy(), ']',\n",
    "             ' W:', W.numpy(), ' b:', b.numpy())\n",
    "print('***** Learning Finished!!')"
   ]
  },
  {
   "cell_type": "code",
   "execution_count": 8,
   "id": "a9cd508c",
   "metadata": {},
   "outputs": [
    {
     "name": "stdout",
     "output_type": "stream",
     "text": [
      "Weight: [[0.78812146]\n",
      " [0.40087056]\n",
      " [0.7815102 ]]\n",
      "Bias: [3.337571]\n"
     ]
    }
   ],
   "source": [
    "# Weight & Bias\n",
    "\n",
    "print('Weight:', W.numpy())\n",
    "print('Bias:', b.numpy())"
   ]
  },
  {
   "cell_type": "code",
   "execution_count": 9,
   "id": "4a53badd",
   "metadata": {},
   "outputs": [
    {
     "name": "stdout",
     "output_type": "stream",
     "text": [
      "***** Predict\n",
      "[[151.55334]\n",
      " [184.58992]\n",
      " [180.29552]\n",
      " [196.43356]\n",
      " [142.0336 ]]\n"
     ]
    }
   ],
   "source": [
    "# 예측\n",
    "\n",
    "print('***** Predict')\n",
    "x_test = np.array(x_data, dtype = np.float32)\n",
    "print(hypothesis(x_test).numpy())"
   ]
  }
 ],
 "metadata": {
  "kernelspec": {
   "display_name": "Python 3 (ipykernel)",
   "language": "python",
   "name": "python3"
  },
  "language_info": {
   "codemirror_mode": {
    "name": "ipython",
    "version": 3
   },
   "file_extension": ".py",
   "mimetype": "text/x-python",
   "name": "python",
   "nbconvert_exporter": "python",
   "pygments_lexer": "ipython3",
   "version": "3.9.16"
  }
 },
 "nbformat": 4,
 "nbformat_minor": 5
}
