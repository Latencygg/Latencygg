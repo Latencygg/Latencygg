{
 "cells": [
  {
   "cell_type": "markdown",
   "id": "7b7ff9ed",
   "metadata": {},
   "source": [
    "### Linear Regression"
   ]
  },
  {
   "cell_type": "code",
   "execution_count": 1,
   "id": "80ff7565",
   "metadata": {},
   "outputs": [],
   "source": [
    "import tensorflow as tf\n",
    "import numpy as np\n",
    "tf.random.set_seed(5)"
   ]
  },
  {
   "cell_type": "code",
   "execution_count": 2,
   "id": "009501c1",
   "metadata": {},
   "outputs": [],
   "source": [
    "# 학습 데이터 X, Y\n",
    "\n",
    "x_train = [1., 2., 3., 4., 5.]\n",
    "y_train = [1.1, 2.2, 3.3, 4.4, 5.5]"
   ]
  },
  {
   "cell_type": "code",
   "execution_count": 3,
   "id": "6f5f6c2b",
   "metadata": {},
   "outputs": [
    {
     "name": "stdout",
     "output_type": "stream",
     "text": [
      "Metal device set to: Apple M2\n",
      "<tf.Variable 'weight:0' shape=(1,) dtype=float32, numpy=array([-0.18030666], dtype=float32)>\n",
      "<tf.Variable 'bias:0' shape=(1,) dtype=float32, numpy=array([0.22652863], dtype=float32)>\n"
     ]
    },
    {
     "name": "stderr",
     "output_type": "stream",
     "text": [
      "2023-07-12 23:37:29.357970: I tensorflow/core/common_runtime/pluggable_device/pluggable_device_factory.cc:305] Could not identify NUMA node of platform GPU ID 0, defaulting to 0. Your kernel may not have been built with NUMA support.\n",
      "2023-07-12 23:37:29.358257: I tensorflow/core/common_runtime/pluggable_device/pluggable_device_factory.cc:271] Created TensorFlow device (/job:localhost/replica:0/task:0/device:GPU:0 with 0 MB memory) -> physical PluggableDevice (device: 0, name: METAL, pci bus id: <undefined>)\n"
     ]
    }
   ],
   "source": [
    "# 변수(Weight, Bias) 초기화\n",
    "\n",
    "W = tf.Variable(tf.random.normal([1]), name = 'weight')\n",
    "b = tf.Variable(tf.random.normal([1]), name = 'bias')\n",
    "print(W)\n",
    "print(b)"
   ]
  },
  {
   "cell_type": "code",
   "execution_count": 4,
   "id": "59165f0c",
   "metadata": {},
   "outputs": [],
   "source": [
    "# 예측 함수(Hypothesis): H(x) = W*X + b\n",
    "\n",
    "def hypothesis(X):\n",
    "    return X*W + b"
   ]
  },
  {
   "cell_type": "code",
   "execution_count": 5,
   "id": "fc90d523",
   "metadata": {},
   "outputs": [],
   "source": [
    "# 비용 함수\n",
    "\n",
    "def cost_func():\n",
    "    cost = tf.reduce_mean(tf.square(hypothesis(x_train) - y_train))\n",
    "    return cost\n",
    "\n",
    "# 제곱: tf.square()\n",
    "# 합의 평균: tf.reduce_mean()"
   ]
  },
  {
   "cell_type": "code",
   "execution_count": 6,
   "id": "0e12db89",
   "metadata": {},
   "outputs": [],
   "source": [
    "# 경사 하강법\n",
    "\n",
    "optimizer = tf.keras.optimizers.Adam(learning_rate = 0.01)\n",
    "\n",
    "# optimizer = tf.compat.v1.train.GradientDescentOptimizer(learning_rate=0.01)\n",
    "# optimizer = tf.compat.v1.train.AdamOptimizer(learning_rate=0.01)"
   ]
  },
  {
   "cell_type": "code",
   "execution_count": 7,
   "id": "e65444a4",
   "metadata": {},
   "outputs": [
    {
     "name": "stdout",
     "output_type": "stream",
     "text": [
      "***** Start Learning!!\n",
      "0000 cost:[ 16.003632 ]  W: [-0.17030665]  b: [0.23652862]\n",
      "0100 cost:[ 0.8404936 ]  W: [0.5883364]  b: [0.9720572]\n",
      "0200 cost:[ 0.2133323 ]  W: [0.78384334]  b: [1.0643244]\n",
      "0300 cost:[ 0.16978766 ]  W: [0.82450444]  b: [0.96062124]\n",
      "0400 cost:[ 0.12961994 ]  W: [0.85932076]  b: [0.83937025]\n",
      "0500 cost:[ 0.09464894 ]  W: [0.8943469]  b: [0.7172717]\n",
      "0600 cost:[ 0.066209756 ]  W: [0.92800397]  b: [0.5999195]\n",
      "0700 cost:[ 0.044397544 ]  W: [0.9591612]  b: [0.49126527]\n",
      "0800 cost:[ 0.028538233 ]  W: [0.98708636]  b: [0.3938706]\n",
      "0900 cost:[ 0.017576551 ]  W: [1.0113882]  b: [0.3091073]\n",
      "1000 cost:[ 0.01036434 ]  W: [1.0319558]  b: [0.23736355]\n",
      "1100 cost:[ 0.0058450527 ]  W: [1.0489011]  b: [0.178254]\n",
      "1200 cost:[ 0.0031486307 ]  W: [1.0624961]  b: [0.13082975]\n",
      "1300 cost:[ 0.0016176611 ]  W: [1.0731183]  b: [0.09377539]\n",
      "1400 cost:[ 0.000791307 ]  W: [1.0811988]  b: [0.06558704]\n",
      "1500 cost:[ 0.00036785388 ]  W: [1.0871811]  b: [0.04471816]\n",
      "1600 cost:[ 0.00016216631 ]  W: [1.0914888]  b: [0.02969128]\n",
      "1700 cost:[ 6.764107e-05 ]  W: [1.094503]  b: [0.01917578]\n",
      "1800 cost:[ 2.6629203e-05 ]  W: [1.096551]  b: [0.01203181]\n",
      "1900 cost:[ 9.868345e-06 ]  W: [1.0979004]  b: [0.00732429]\n",
      "2000 cost:[ 3.4315083e-06 ]  W: [1.0987619]  b: [0.00431915]\n",
      "2100 cost:[ 1.1166644e-06 ]  W: [1.0992937]  b: [0.00246387]\n",
      "2200 cost:[ 3.3895077e-07 ]  W: [1.0996109]  b: [0.00135724]\n",
      "2300 cost:[ 9.551993e-08 ]  W: [1.0997934]  b: [0.00072058]\n",
      "2400 cost:[ 2.4910756e-08 ]  W: [1.0998944]  b: [0.00036806]\n",
      "2500 cost:[ 6.0260503e-09 ]  W: [1.0999478]  b: [0.00018099]\n",
      "2600 cost:[ 1.372132e-09 ]  W: [1.0999752]  b: [8.601075e-05]\n",
      "2700 cost:[ 2.924395e-10 ]  W: [1.0999888]  b: [4.012061e-05]\n",
      "2800 cost:[ 5.256027e-11 ]  W: [1.099995]  b: [1.7028808e-05]\n",
      "2900 cost:[ 1.5998581e-11 ]  W: [1.0999972]  b: [8.936084e-06]\n",
      "3000 cost:[ 8.253664e-12 ]  W: [1.099998]  b: [6.295492e-06]\n",
      "***** Learning Finished!!\n"
     ]
    }
   ],
   "source": [
    "# 학습\n",
    "\n",
    "print('***** Start Learning!!')\n",
    "for step in range(3001):\n",
    "    optimizer.minimize(cost_func, var_list=[W, b])\n",
    "    if step % 100 == 0:\n",
    "        print('%04d'%step, 'cost:[', cost_func().numpy(), ']',\n",
    "             ' W:', W.numpy(), ' b:', b.numpy())\n",
    "print('***** Learning Finished!!')"
   ]
  },
  {
   "cell_type": "code",
   "execution_count": 8,
   "id": "deec5acb",
   "metadata": {},
   "outputs": [
    {
     "name": "stdout",
     "output_type": "stream",
     "text": [
      "Weight: [1.099998]\n",
      "Bias: [6.295492e-06]\n"
     ]
    }
   ],
   "source": [
    "# Weight & Bias 출력\n",
    "\n",
    "print('Weight:', W.numpy())\n",
    "print('Bias:', b.numpy())"
   ]
  },
  {
   "cell_type": "code",
   "execution_count": 9,
   "id": "962f83bc",
   "metadata": {},
   "outputs": [
    {
     "name": "stdout",
     "output_type": "stream",
     "text": [
      "***** Predict\n",
      "x=6.0, H(x) = [6.599994]\n",
      "x=9.5, H(x) = [10.449987]\n",
      "x=12.3, H(x) = [13.529983]\n"
     ]
    }
   ],
   "source": [
    "# 예측\n",
    "\n",
    "print('***** Predict')\n",
    "print('x=6.0, H(x) =', hypothesis(6).numpy())\n",
    "print('x=9.5, H(x) =', hypothesis(9.5).numpy())\n",
    "print('x=12.3, H(x) =', hypothesis(12.3).numpy())"
   ]
  }
 ],
 "metadata": {
  "kernelspec": {
   "display_name": "Python 3 (ipykernel)",
   "language": "python",
   "name": "python3"
  },
  "language_info": {
   "codemirror_mode": {
    "name": "ipython",
    "version": 3
   },
   "file_extension": ".py",
   "mimetype": "text/x-python",
   "name": "python",
   "nbconvert_exporter": "python",
   "pygments_lexer": "ipython3",
   "version": "3.9.16"
  }
 },
 "nbformat": 4,
 "nbformat_minor": 5
}
