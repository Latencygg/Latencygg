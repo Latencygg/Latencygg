{
 "cells": [
  {
   "cell_type": "markdown",
   "id": "05f879da",
   "metadata": {},
   "source": [
    "### MNIST"
   ]
  },
  {
   "cell_type": "code",
   "execution_count": 1,
   "id": "6b720d66",
   "metadata": {},
   "outputs": [],
   "source": [
    "import tensorflow as tf\n",
    "import numpy as np\n",
    "import matplotlib.pyplot as plt\n",
    "tf.random.set_seed(5)"
   ]
  },
  {
   "cell_type": "code",
   "execution_count": 2,
   "id": "3da48442",
   "metadata": {},
   "outputs": [
    {
     "name": "stdout",
     "output_type": "stream",
     "text": [
      "(60000, 28, 28)\n"
     ]
    }
   ],
   "source": [
    "# 데이터 가져오기\n",
    "\n",
    "mnist = tf.keras.datasets.mnist\n",
    "(x_train, y_train), (x_test, y_test)  = mnist.load_data()\n",
    "print(x_train.shape)"
   ]
  },
  {
   "cell_type": "code",
   "execution_count": 3,
   "id": "74f0e641",
   "metadata": {},
   "outputs": [
    {
     "name": "stdout",
     "output_type": "stream",
     "text": [
      "<class 'numpy.ndarray'> (60000, 28, 28)\n",
      "<class 'numpy.ndarray'> (60000,)\n",
      "<class 'numpy.ndarray'> (10000, 28, 28)\n",
      "<class 'numpy.ndarray'> (10000,)\n",
      "5\n"
     ]
    },
    {
     "data": {
      "image/png": "[encoded data removed]",
      "text/plain": [
       "<Figure size 640x480 with 1 Axes>"
      ]
     },
     "metadata": {},
     "output_type": "display_data"
    }
   ],
   "source": [
    "# 이미지 출력\n",
    "\n",
    "def show_one_image(n):\n",
    "    print(type(x_train), x_train.shape)\n",
    "    print(type(y_train), y_train.shape)\n",
    "    print(type(x_test), x_test.shape)\n",
    "    print(type(y_test), y_test.shape)\n",
    "    \n",
    "    image = x_train[n]\n",
    "    print(y_train[n])\n",
    "    \n",
    "    plt.imshow(image, cmap = 'Greys')\n",
    "    plt.show()\n",
    "\n",
    "show_one_image(0)    "
   ]
  },
  {
   "cell_type": "code",
   "execution_count": 4,
   "id": "bb864a2d",
   "metadata": {},
   "outputs": [
    {
     "name": "stdout",
     "output_type": "stream",
     "text": [
      "Metal device set to: Apple M2\n",
      "(60000, 784) <dtype: 'float32'>\n",
      "(10000, 784) <dtype: 'float32'>\n"
     ]
    },
    {
     "name": "stderr",
     "output_type": "stream",
     "text": [
      "2023-07-13 01:04:29.620363: I tensorflow/core/common_runtime/pluggable_device/pluggable_device_factory.cc:305] Could not identify NUMA node of platform GPU ID 0, defaulting to 0. Your kernel may not have been built with NUMA support.\n",
      "2023-07-13 01:04:29.620450: I tensorflow/core/common_runtime/pluggable_device/pluggable_device_factory.cc:271] Created TensorFlow device (/job:localhost/replica:0/task:0/device:GPU:0 with 0 MB memory) -> physical PluggableDevice (device: 0, name: METAL, pci bus id: <undefined>)\n"
     ]
    }
   ],
   "source": [
    "# X값의 shape을 2차원으로 변환\n",
    "\n",
    "x_train = x_train.reshape(-1 ,28*28)\n",
    "x_test = x_test.reshape(-1, 28*28)\n",
    "\n",
    "# X값의 타입을 float형으로 변환\n",
    "\n",
    "x_train = tf.cast(x_train, dtype = tf.float32)\n",
    "x_test = tf.cast(x_test, dtype = tf.float32)\n",
    "\n",
    "print(x_train.shape, x_train.dtype)\n",
    "print(x_test.shape, x_test.dtype)"
   ]
  },
  {
   "cell_type": "code",
   "execution_count": 5,
   "id": "4cac910f",
   "metadata": {},
   "outputs": [
    {
     "name": "stdout",
     "output_type": "stream",
     "text": [
      "(60000, 10)\n"
     ]
    }
   ],
   "source": [
    "# One-hot Encoding\n",
    "\n",
    "nb_classes = 10\n",
    "\n",
    "Y_one_hot = tf.one_hot(y_train, nb_classes)  \n",
    "print(Y_one_hot.shape)"
   ]
  },
  {
   "cell_type": "code",
   "execution_count": 6,
   "id": "9cbba732",
   "metadata": {},
   "outputs": [],
   "source": [
    "# Layer 1: 은닉층(Hidden Layer)\n",
    "\n",
    "W1 = tf.Variable(tf.random.normal([784, 512]), name = 'weight1')\n",
    "b1 = tf.Variable(tf.random.normal([512]), name = 'bias1')\n",
    "\n",
    "def layer1(X):\n",
    "    return  tf.nn.relu(tf.matmul(X, W1) + b1) "
   ]
  },
  {
   "cell_type": "code",
   "execution_count": 7,
   "id": "0636f724",
   "metadata": {},
   "outputs": [],
   "source": [
    "# Layer 2: 은닉층(Hidden Layer)\n",
    "\n",
    "W2 = tf.Variable(tf.random.normal([512, 512]), name = 'weight2')\n",
    "b2 = tf.Variable(tf.random.normal([512]), name = 'bias2')\n",
    "\n",
    "def layer2(X):\n",
    "    return  tf.nn.relu(tf.matmul(layer1(X), W2) + b2) "
   ]
  },
  {
   "cell_type": "code",
   "execution_count": 8,
   "id": "f9c7e9e3",
   "metadata": {},
   "outputs": [],
   "source": [
    "# Layer 3: 은닉층(Hidden Layer)\n",
    "\n",
    "W3 = tf.Variable(tf.random.normal([512, 512]), name = 'weight3')\n",
    "b3 = tf.Variable(tf.random.normal([512]), name = 'bias3')\n",
    "\n",
    "def layer3(X):\n",
    "    return  tf.nn.relu(tf.matmul(layer2(X), W3) + b3) "
   ]
  },
  {
   "cell_type": "code",
   "execution_count": 9,
   "id": "0657b618",
   "metadata": {},
   "outputs": [],
   "source": [
    "# Layer 4: 출력층(Output Layer)\n",
    "\n",
    "W4 = tf.Variable(tf.random.normal([512, nb_classes]), name = 'weight4')\n",
    "b4 = tf.Variable(tf.random.normal([nb_classes]), name = 'bias4')"
   ]
  },
  {
   "cell_type": "code",
   "execution_count": 10,
   "id": "b9074af3",
   "metadata": {},
   "outputs": [],
   "source": [
    "# 예측 함수\n",
    "\n",
    "def logits(X):\n",
    "    return tf.matmul(layer3(X), W4) + b4\n",
    "\n",
    "def hypothesis(X):\n",
    "    return tf.nn.softmax(logits(X)) "
   ]
  },
  {
   "cell_type": "code",
   "execution_count": 11,
   "id": "4a30b447",
   "metadata": {},
   "outputs": [],
   "source": [
    "# 경사 하강법\n",
    "\n",
    "optimizer = tf.keras.optimizers.Adam(learning_rate = 0.01)"
   ]
  },
  {
   "cell_type": "code",
   "execution_count": 12,
   "id": "5178e089",
   "metadata": {},
   "outputs": [
    {
     "name": "stdout",
     "output_type": "stream",
     "text": [
      "***** Start Learning!!\n",
      "Epoch: 0001 cost: 169463.912568573\n",
      "Epoch: 0002 cost: 17463.762289787\n",
      "Epoch: 0003 cost: 8005.149878051\n",
      "Epoch: 0004 cost: 4529.961570140\n",
      "Epoch: 0005 cost: 2961.959557719\n",
      "Epoch: 0006 cost: 1811.477714528\n",
      "Epoch: 0007 cost: 985.915369705\n",
      "Epoch: 0008 cost: 273.284070916\n",
      "Epoch: 0009 cost: 17.419010537\n",
      "Epoch: 0010 cost: 5.323030195\n",
      "Epoch: 0011 cost: 2.652303656\n",
      "Epoch: 0012 cost: 2.127158170\n",
      "Epoch: 0013 cost: 2.168779647\n",
      "Epoch: 0014 cost: 2.171370775\n",
      "Epoch: 0015 cost: 2.166418628\n",
      "Epoch: 0016 cost: 2.232538044\n",
      "Epoch: 0017 cost: 2.239919099\n",
      "Epoch: 0018 cost: 2.294268820\n",
      "Epoch: 0019 cost: 2.295803289\n",
      "Epoch: 0020 cost: 2.295802998\n",
      "Epoch: 0021 cost: 2.295802885\n",
      "Epoch: 0022 cost: 2.295802836\n",
      "Epoch: 0023 cost: 2.295802835\n",
      "Epoch: 0024 cost: 2.295802821\n",
      "Epoch: 0025 cost: 2.295802822\n",
      "***** Learning Finished!!\n"
     ]
    }
   ],
   "source": [
    "# 학습\n",
    "\n",
    "training_epoch = 25\n",
    "batch_size = 60\n",
    "\n",
    "print('***** Start Learning!!')\n",
    "for epoch in range(training_epoch):\n",
    "    avg_cost = 0\n",
    "    total_batch = int(x_train.shape[0]/batch_size)\n",
    "    \n",
    "    for k in range(total_batch):\n",
    "        batch_xs = x_train[0 + k*batch_size:batch_size + k*batch_size]\n",
    "        batch_ys = Y_one_hot[0 + k*batch_size:batch_size + k*batch_size]\n",
    "        \n",
    "# 비용 함수        \n",
    "        def cost_func_batch():\n",
    "            cost_i = tf.nn.softmax_cross_entropy_with_logits(logits = logits(batch_xs),\n",
    "                                             labels = batch_ys)\n",
    "            cost =  tf.reduce_mean(cost_i)\n",
    "            return cost\n",
    "        \n",
    "        optimizer.minimize(cost_func_batch, var_list=[W1, b1, W2, b2, W3, b3, W4, b4])\n",
    "        avg_cost += cost_func_batch().numpy()/total_batch\n",
    "            \n",
    "    print('Epoch:', '%04d'%(epoch + 1), 'cost:', '{:.9f}'.format(avg_cost))\n",
    "             \n",
    "print('***** Learning Finished!!')"
   ]
  },
  {
   "cell_type": "code",
   "execution_count": 13,
   "id": "ae518b89",
   "metadata": {},
   "outputs": [
    {
     "name": "stdout",
     "output_type": "stream",
     "text": [
      "(10000, 10)\n",
      "Accuracy: 0.104499996\n"
     ]
    }
   ],
   "source": [
    "# 평가\n",
    "\n",
    "Y_one_hot = tf.one_hot(y_test, nb_classes)  \n",
    "print(Y_one_hot.shape)\n",
    "\n",
    "def predict(X):\n",
    "    return tf.argmax(hypothesis(X), axis = 1)\n",
    "\n",
    "correct_predict = tf.equal(predict(x_test), tf.argmax(Y_one_hot, 1))\n",
    "accuracy = tf.reduce_mean(tf.cast(correct_predict, dtype = tf.float32))\n",
    "print('Accuracy:', accuracy.numpy())"
   ]
  },
  {
   "cell_type": "code",
   "execution_count": 14,
   "id": "15d166ef",
   "metadata": {},
   "outputs": [
    {
     "name": "stdout",
     "output_type": "stream",
     "text": [
      "***** Predict\n",
      " [7 7 7 7 7 7 7 7 7 7 7 7 7 7 7 7 7 7 7 7 7 7 7 7 7 7 7 7 7 7 7 7 7 7 7 7 7\n",
      " 7 7 7 7 7 7 7 7 7 7 7 7 7 7 7 7 7 7 7 7 7 7 7 7 7 7 7 7 7 7 7 7 7 7 7 7 7\n",
      " 7 7 7 7 7 7 7 7 7 7 7 7 7 7 7 7 7 7 7 7 7 7 7 7 7 7] \n",
      " [7 2 1 0 4 1 4 9 5 9 0 6 9 0 1 5 9 7 3 4 9 6 6 5 4 0 7 4 0 1 3 1 3 4 7 2 7\n",
      " 1 2 1 1 7 4 2 3 5 1 2 4 4 6 3 5 5 6 0 4 1 9 5 7 8 9 3 7 4 6 4 3 0 7 0 2 9\n",
      " 1 7 3 2 9 7 7 6 2 7 8 4 7 3 6 1 3 6 9 3 1 4 1 7 6 9]\n"
     ]
    }
   ],
   "source": [
    "# 예측\n",
    "\n",
    "print('***** Predict')\n",
    "pred = predict(x_test).numpy()\n",
    "print('', pred[:100], '\\n', y_test[:100])"
   ]
  },
  {
   "cell_type": "code",
   "execution_count": 15,
   "id": "260b54f0",
   "metadata": {},
   "outputs": [
    {
     "name": "stdout",
     "output_type": "stream",
     "text": [
      "random =  9812 Label: 3\n",
      "Prediction :  [7]\n"
     ]
    },
    {
     "data": {
      "image/png": "[encoded data removed]",
      "text/plain": [
       "<Figure size 640x480 with 1 Axes>"
      ]
     },
     "metadata": {},
     "output_type": "display_data"
    }
   ],
   "source": [
    "# 임의의 test 데이터로 예측한 값 시각화\n",
    "\n",
    "r = np.random.randint(0, x_test.shape[0] - 1)\n",
    "\n",
    "print('random = ', r, 'Label:', y_test[r])\n",
    "print('Prediction : ', predict(x_test[r:r+1]).numpy())\n",
    "\n",
    "image = tf.reshape(x_test[r], (28,28))\n",
    "plt.imshow(image, cmap = 'Greys')\n",
    "plt.show()"
   ]
  }
 ],
 "metadata": {
  "kernelspec": {
   "display_name": "Python 3 (ipykernel)",
   "language": "python",
   "name": "python3"
  },
  "language_info": {
   "codemirror_mode": {
    "name": "ipython",
    "version": 3
   },
   "file_extension": ".py",
   "mimetype": "text/x-python",
   "name": "python",
   "nbconvert_exporter": "python",
   "pygments_lexer": "ipython3",
   "version": "3.9.16"
  }
 },
 "nbformat": 4,
 "nbformat_minor": 5
}
