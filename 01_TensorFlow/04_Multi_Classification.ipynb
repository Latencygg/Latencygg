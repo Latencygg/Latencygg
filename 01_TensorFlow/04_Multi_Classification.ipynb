{
 "cells": [
  {
   "cell_type": "markdown",
   "id": "58c06e75",
   "metadata": {},
   "source": [
    "### Multi Classification"
   ]
  },
  {
   "cell_type": "code",
   "execution_count": 1,
   "id": "7f5e2824",
   "metadata": {},
   "outputs": [],
   "source": [
    "import tensorflow as tf\n",
    "import numpy as np\n",
    "tf.random.set_seed(5)"
   ]
  },
  {
   "cell_type": "code",
   "execution_count": 2,
   "id": "893823cc",
   "metadata": {},
   "outputs": [
    {
     "name": "stdout",
     "output_type": "stream",
     "text": [
      "(8, 4) (8, 3)\n"
     ]
    }
   ],
   "source": [
    "# 학습 데이터\n",
    "\n",
    "x_data = [[1, 2, 1, 1],\n",
    "          [2, 1, 3, 2],\n",
    "          [3, 1, 3, 4],\n",
    "          [4, 1, 5, 5],\n",
    "          [1, 7, 5, 5],\n",
    "          [1, 2, 5, 6],\n",
    "          [1, 6, 6, 6],\n",
    "          [1, 7, 7, 7]]\n",
    "y_data = [[0, 0, 1],\n",
    "          [0, 0, 1],\n",
    "          [0, 0, 1],\n",
    "          [0, 1, 0],\n",
    "          [0, 1, 0],\n",
    "          [0, 1, 0],\n",
    "          [1, 0, 0],\n",
    "          [1, 0, 0]]\n",
    "\n",
    "x_train = np.array(x_data, dtype = np.float32)\n",
    "y_train = np.array(y_data, dtype = np.float32)\n",
    "print(x_train.shape, y_train.shape)"
   ]
  },
  {
   "cell_type": "code",
   "execution_count": 3,
   "id": "917f42c7",
   "metadata": {},
   "outputs": [
    {
     "name": "stdout",
     "output_type": "stream",
     "text": [
      "Metal device set to: Apple M2\n",
      "<tf.Variable 'weight:0' shape=(4, 3) dtype=float32, numpy=\n",
      "array([[-0.18030666, -0.95028627, -0.03964049],\n",
      "       [-0.7425406 ,  1.3231523 , -0.61854804],\n",
      "       [ 0.8540664 , -0.08899953,  2.4488697 ],\n",
      "       [ 0.762508  ,  1.2659615 ,  0.9801489 ]], dtype=float32)>\n",
      "<tf.Variable 'bias:0' shape=(3,) dtype=float32, numpy=array([0.22652863, 0.8106553 , 0.7466094 ], dtype=float32)>\n"
     ]
    },
    {
     "name": "stderr",
     "output_type": "stream",
     "text": [
      "2023-07-13 00:26:21.223976: I tensorflow/core/common_runtime/pluggable_device/pluggable_device_factory.cc:305] Could not identify NUMA node of platform GPU ID 0, defaulting to 0. Your kernel may not have been built with NUMA support.\n",
      "2023-07-13 00:26:21.224055: I tensorflow/core/common_runtime/pluggable_device/pluggable_device_factory.cc:271] Created TensorFlow device (/job:localhost/replica:0/task:0/device:GPU:0 with 0 MB memory) -> physical PluggableDevice (device: 0, name: METAL, pci bus id: <undefined>)\n"
     ]
    }
   ],
   "source": [
    "# 변수 초기화\n",
    "\n",
    "nb_classes = 3\n",
    "\n",
    "W = tf.Variable(tf.random.normal([4, nb_classes]), name = 'weight')\n",
    "b = tf.Variable(tf.random.normal([nb_classes]), name = 'bias')\n",
    "print(W)\n",
    "print(b)"
   ]
  },
  {
   "cell_type": "code",
   "execution_count": 4,
   "id": "c486982e",
   "metadata": {},
   "outputs": [],
   "source": [
    "# 예측 함수\n",
    "\n",
    "def logits(X):\n",
    "    return tf.matmul(X, W) + b\n",
    "\n",
    "def hypothesis(X):\n",
    "    return tf.nn.softmax(logits(X))"
   ]
  },
  {
   "cell_type": "code",
   "execution_count": 5,
   "id": "f1e94025",
   "metadata": {},
   "outputs": [],
   "source": [
    "# 비용 함수\n",
    "\n",
    "def cost_func():\n",
    "    cost_i = tf.nn.softmax_cross_entropy_with_logits(logits = logits(x_train), labels = y_train)\n",
    "    cost = tf.reduce_mean(cost_i)\n",
    "    return cost"
   ]
  },
  {
   "cell_type": "code",
   "execution_count": 6,
   "id": "16f0ecfc",
   "metadata": {},
   "outputs": [],
   "source": [
    "# 경사 하강법\n",
    "\n",
    "optimizer = tf.keras.optimizers.Adam(learning_rate = 0.01)"
   ]
  },
  {
   "cell_type": "code",
   "execution_count": 7,
   "id": "66616677",
   "metadata": {},
   "outputs": [
    {
     "name": "stdout",
     "output_type": "stream",
     "text": [
      "***** Start Learning!!\n",
      "0000 cost:[ 5.9294786 ]  W: [[-0.17030679 -0.94028634 -0.04964045]\n",
      " [-0.7325406   1.3331522  -0.628548  ]\n",
      " [ 0.86406636 -0.07899956  2.4388697 ]\n",
      " [ 0.77250797  1.2759615   0.9701489 ]]  b: [0.2365285  0.8206551  0.73660946]\n",
      "1000 cost:[ 0.31467563 ]  W: [[-2.2194254e+00  5.2480650e-01  1.1872520e+00]\n",
      " [ 1.2104942e-01  2.2536039e-03 -6.3699313e-02]\n",
      " [ 2.2870748e+00  1.1651013e+00  6.7434859e-01]\n",
      " [ 1.2760859e+00  1.7768891e+00  3.7673828e-01]]  b: [-2.718771  -1.5067654  4.317268 ]\n",
      "2000 cost:[ 0.16304676 ]  W: [[-3.7972474   1.3537486   2.2676601 ]\n",
      " [ 0.04149157  0.02373841  0.06498635]\n",
      " [ 3.5885103   1.0490643  -0.50220144]\n",
      " [ 1.0556872   1.8170295   0.5562783 ]]  b: [-6.115446  -1.3375328  7.1691628]\n",
      "3000 cost:[ 0.089659505 ]  W: [[-5.234307    2.1662514   3.2086892 ]\n",
      " [-0.04390961  0.06965949  0.16019607]\n",
      " [ 4.872837    0.6919886  -1.5755098 ]\n",
      " [ 0.73720884  2.0572226   0.74264306]]  b: [-9.075827  -1.3604153  9.762425 ]\n",
      "4000 cost:[ 0.05118679 ]  W: [[-6.569139    2.9417863   4.0721726 ]\n",
      " [-0.12962632  0.12064239  0.24657105]\n",
      " [ 6.118548    0.27676255 -2.5946312 ]\n",
      " [ 0.37532765  2.3316712   0.95390725]]  b: [-11.740844   -1.3668213  12.113417 ]\n",
      "5000 cost:[ 0.029821234 ]  W: [[-7.8441896e+00  3.6925631e+00  4.8953695e+00]\n",
      " [-2.1366227e-01  1.7167942e-01  3.2927954e-01]\n",
      " [ 7.3285379e+00 -1.4590268e-01 -3.5808456e+00]\n",
      " [-2.5797891e-03  2.6041093e+00  1.1803550e+00]]  b: [-14.22404    -1.3462164  14.310631 ]\n",
      "***** Learning Finished!!\n"
     ]
    }
   ],
   "source": [
    "# 학습\n",
    "\n",
    "print('***** Start Learning!!')\n",
    "for step in range(5001):\n",
    "    optimizer.minimize(cost_func, var_list=[W, b])\n",
    "    if step % 1000 == 0:\n",
    "        print('%04d'%step, 'cost:[', cost_func().numpy(), ']',\n",
    "             ' W:', W.numpy(), ' b:', b.numpy())\n",
    "print('***** Learning Finished!!')"
   ]
  },
  {
   "cell_type": "code",
   "execution_count": 8,
   "id": "fe21e7ff",
   "metadata": {},
   "outputs": [
    {
     "name": "stdout",
     "output_type": "stream",
     "text": [
      "Weight: [[-7.8441896e+00  3.6925631e+00  4.8953695e+00]\n",
      " [-2.1366227e-01  1.7167942e-01  3.2927954e-01]\n",
      " [ 7.3285379e+00 -1.4590268e-01 -3.5808456e+00]\n",
      " [-2.5797891e-03  2.6041093e+00  1.1803550e+00]]\n",
      "Bias: [-14.22404    -1.3462164  14.310631 ]\n"
     ]
    }
   ],
   "source": [
    "# Weight & Bias\n",
    "\n",
    "print('Weight:', W.numpy())\n",
    "print('Bias:', b.numpy())"
   ]
  },
  {
   "cell_type": "code",
   "execution_count": 9,
   "id": "1dd4cef0",
   "metadata": {},
   "outputs": [],
   "source": [
    "# 학습 데이터를 검증 데이터로 동일하게 사용하는 경우\n",
    "\n",
    "x_test = x_train\n",
    "y_test = y_train"
   ]
  },
  {
   "cell_type": "code",
   "execution_count": 10,
   "id": "c6f39fd6",
   "metadata": {},
   "outputs": [
    {
     "name": "stdout",
     "output_type": "stream",
     "text": [
      "[2 2 2 1 1 1 0 0]\n",
      "[[6.72011165e-15 4.47877028e-06 9.99995470e-01]\n",
      " [3.08857696e-11 6.25734450e-03 9.93742645e-01]\n",
      " [8.28591700e-18 3.15836854e-02 9.68416333e-01]\n",
      " [5.72436142e-16 9.75103438e-01 2.48965956e-02]\n",
      " [5.86906783e-02 9.39635932e-01 1.67340611e-03]\n",
      " [3.06679886e-02 9.69142973e-01 1.89006110e-04]\n",
      " [9.22718585e-01 7.72805959e-02 9.12350174e-07]\n",
      " [9.99054015e-01 9.46026354e-04 1.01469264e-10]]\n",
      "[2 2 2 1 1 1 0 0]\n"
     ]
    }
   ],
   "source": [
    "# 예측\n",
    "\n",
    "def predict(X):\n",
    "    return tf.argmax(hypothesis(X), axis = 1)\n",
    "preds = predict(x_test)\n",
    "\n",
    "print(preds.numpy())\n",
    "print(hypothesis(x_test).numpy())\n",
    "print(tf.argmax(y_test, axis = 1).numpy())"
   ]
  }
 ],
 "metadata": {
  "kernelspec": {
   "display_name": "Python 3 (ipykernel)",
   "language": "python",
   "name": "python3"
  },
  "language_info": {
   "codemirror_mode": {
    "name": "ipython",
    "version": 3
   },
   "file_extension": ".py",
   "mimetype": "text/x-python",
   "name": "python",
   "nbconvert_exporter": "python",
   "pygments_lexer": "ipython3",
   "version": "3.9.16"
  }
 },
 "nbformat": 4,
 "nbformat_minor": 5
}
